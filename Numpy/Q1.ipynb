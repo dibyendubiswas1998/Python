{
 "cells": [
  {
   "cell_type": "markdown",
   "metadata": {},
   "source": [
    "# Numpy Arrays"
   ]
  },
  {
   "cell_type": "code",
   "execution_count": 1,
   "metadata": {},
   "outputs": [],
   "source": [
    "import numpy as np"
   ]
  },
  {
   "cell_type": "code",
   "execution_count": 2,
   "metadata": {},
   "outputs": [
    {
     "data": {
      "text/plain": [
       "'1.18.1'"
      ]
     },
     "execution_count": 2,
     "metadata": {},
     "output_type": "execute_result"
    }
   ],
   "source": [
    "# 1. Write a NumPy program to print the NumPy version in your system. \n",
    "\n",
    "np.__version__"
   ]
  },
  {
   "cell_type": "code",
   "execution_count": 5,
   "metadata": {},
   "outputs": [
    {
     "data": {
      "text/plain": [
       "matrix([[ 2,  3,  4],\n",
       "        [ 5,  6,  7],\n",
       "        [ 8,  9, 10]])"
      ]
     },
     "execution_count": 5,
     "metadata": {},
     "output_type": "execute_result"
    }
   ],
   "source": [
    "# 2. Write a NumPy program to create a 3x3 matrix with values ranging from 2 to 10. \n",
    "\n",
    "mat = np.matrix(np.arange(2,11).reshape(3,3))\n",
    "mat"
   ]
  },
  {
   "cell_type": "code",
   "execution_count": 7,
   "metadata": {},
   "outputs": [
    {
     "data": {
      "text/plain": [
       "array([ 0.,  0.,  0.,  0.,  0.,  0., 11.,  0.,  0.,  0.])"
      ]
     },
     "execution_count": 7,
     "metadata": {},
     "output_type": "execute_result"
    }
   ],
   "source": [
    "# 3. Write a NumPy program to create a null vector of size 10 and update sixth value to 11.\n",
    "\n",
    "ar = np.zeros(10)\n",
    "ar[6] = 11\n",
    "ar"
   ]
  },
  {
   "cell_type": "code",
   "execution_count": 10,
   "metadata": {},
   "outputs": [
    {
     "data": {
      "text/plain": [
       "[5, 4, 3, 2, 1]"
      ]
     },
     "execution_count": 10,
     "metadata": {},
     "output_type": "execute_result"
    }
   ],
   "source": [
    "# 4. Write a NumPy program to reverse an array (first element becomes last).\n",
    "\n",
    "ar = np.array([1, 2, 3, 4, 5])\n",
    "sorted(ar, reverse=True)"
   ]
  },
  {
   "cell_type": "code",
   "execution_count": 11,
   "metadata": {},
   "outputs": [
    {
     "data": {
      "text/plain": [
       "array([1., 2., 3., 4., 5.])"
      ]
     },
     "execution_count": 11,
     "metadata": {},
     "output_type": "execute_result"
    }
   ],
   "source": [
    "# 5. Write a NumPy program to convert an array to a float type.\n",
    "\n",
    "ar = np.array([1, 2, 3, 4, 5], dtype=float)\n",
    "ar"
   ]
  },
  {
   "cell_type": "code",
   "execution_count": 15,
   "metadata": {},
   "outputs": [
    {
     "data": {
      "text/plain": [
       "array([[1., 1., 1., 1.],\n",
       "       [1., 0., 0., 1.],\n",
       "       [1., 0., 0., 1.],\n",
       "       [1., 1., 1., 1.]])"
      ]
     },
     "execution_count": 15,
     "metadata": {},
     "output_type": "execute_result"
    }
   ],
   "source": [
    "one = np.ones((4,4))\n",
    "zero = np.zeros((2,2))\n",
    "\n",
    "one[1:3, 1:3] = zero\n",
    "one"
   ]
  },
  {
   "cell_type": "code",
   "execution_count": 16,
   "metadata": {},
   "outputs": [
    {
     "data": {
      "text/plain": [
       "array([[0, 1, 0, 1, 0, 1, 0, 1],\n",
       "       [1, 0, 1, 0, 1, 0, 1, 0],\n",
       "       [0, 1, 0, 1, 0, 1, 0, 1],\n",
       "       [1, 0, 1, 0, 1, 0, 1, 0],\n",
       "       [0, 1, 0, 1, 0, 1, 0, 1],\n",
       "       [1, 0, 1, 0, 1, 0, 1, 0],\n",
       "       [0, 1, 0, 1, 0, 1, 0, 1],\n",
       "       [1, 0, 1, 0, 1, 0, 1, 0]])"
      ]
     },
     "execution_count": 16,
     "metadata": {},
     "output_type": "execute_result"
    }
   ],
   "source": [
    "# 6. Write a NumPy program to create a 8x8 matrix and fill it with a checkerboard pattern. \n",
    "\n",
    "x = np.ones((3,3))\n",
    "x = np.zeros((8,8),dtype=int)\n",
    "x[1::2,::2] = 1\n",
    "x[::2,1::2] = 1\n",
    "x"
   ]
  },
  {
   "cell_type": "code",
   "execution_count": 20,
   "metadata": {},
   "outputs": [
    {
     "data": {
      "text/plain": [
       "array([1, 2, 3, 4, 5])"
      ]
     },
     "execution_count": 20,
     "metadata": {},
     "output_type": "execute_result"
    }
   ],
   "source": [
    "# 7. Write a NumPy program to convert a list and tuple into arrays. \n",
    "\n",
    "tup = (1, 2, 3, 4, 5)\n",
    "np.array(tup)"
   ]
  },
  {
   "cell_type": "code",
   "execution_count": 24,
   "metadata": {},
   "outputs": [
    {
     "data": {
      "text/plain": [
       "array([10, 20, 30, 40, 50])"
      ]
     },
     "execution_count": 24,
     "metadata": {},
     "output_type": "execute_result"
    }
   ],
   "source": [
    "# 8. Write a NumPy program to append values to the end of an array.\n",
    "\n",
    "ar = np.array([10, 20, 30, 40, 50])\n",
    "np.append(ar, 50)\n",
    "ar"
   ]
  },
  {
   "cell_type": "code",
   "execution_count": 30,
   "metadata": {},
   "outputs": [
    {
     "data": {
      "text/plain": [
       "(array([[1., 1., 1., 1.],\n",
       "        [1., 1., 1., 1.],\n",
       "        [1., 1., 1., 1.]]),\n",
       " array([[6, 6, 6, 6],\n",
       "        [6, 6, 6, 6],\n",
       "        [6, 6, 6, 6]]))"
      ]
     },
     "execution_count": 30,
     "metadata": {},
     "output_type": "execute_result"
    }
   ],
   "source": [
    "# 9. Write a NumPy program to create an empty and a full array.\n",
    "\n",
    "empty = np.empty((3,4))\n",
    "full = np.full((3,4), 6)\n",
    "empty, full"
   ]
  },
  {
   "cell_type": "code",
   "execution_count": 38,
   "metadata": {},
   "outputs": [
    {
     "name": "stdout",
     "output_type": "stream",
     "text": [
      "[ 32.     53.6   113.378  93.2   211.838]\n"
     ]
    }
   ],
   "source": [
    "# 10. Write a NumPy program to convert the values of Centigrade degrees into Fahrenheit degrees.\n",
    "\n",
    "lst = [0, 12, 45.21 ,34, 99.91]\n",
    "def convertF(lst):\n",
    "    F = []\n",
    "    for i in lst:\n",
    "        s = (((9*i)/5)+32)\n",
    "        F.append(s)\n",
    "    print(np.array(F))\n",
    "convertF(lst)"
   ]
  },
  {
   "cell_type": "code",
   "execution_count": 41,
   "metadata": {},
   "outputs": [
    {
     "name": "stdout",
     "output_type": "stream",
     "text": [
      "[1.]\n",
      "[0.70710678] \n",
      "\n",
      "[0.]\n",
      "[0.70710678]\n"
     ]
    }
   ],
   "source": [
    "# 11. Write a NumPy program to find the real and imaginary parts of an array of complex numbers.\n",
    "\n",
    "x = np.sqrt([1+0j])\n",
    "y = np.sqrt([0+1j])\n",
    "\n",
    "print(x.real)\n",
    "print(y.real, '\\n')\n",
    "\n",
    "print(x.imag)\n",
    "print(y.imag)"
   ]
  },
  {
   "cell_type": "code",
   "execution_count": 48,
   "metadata": {},
   "outputs": [
    {
     "name": "stdout",
     "output_type": "stream",
     "text": [
      "Length:  3\n",
      "Byte:  4\n",
      "Total Bytes:  12\n"
     ]
    }
   ],
   "source": [
    "# 12. Write a NumPy program to find the number of elements of an array, length of one \n",
    "# array element in bytes and total bytes consumed by the elements.\n",
    "\n",
    "arr = np.array([10, 20, 30])\n",
    "\n",
    "print(\"Length: \", len(arr))\n",
    "print(\"Byte: \", arr.itemsize)\n",
    "print(\"Total Bytes: \", arr.nbytes)"
   ]
  },
  {
   "cell_type": "code",
   "execution_count": 49,
   "metadata": {},
   "outputs": [
    {
     "data": {
      "text/plain": [
       "array([ True, False, False,  True, False])"
      ]
     },
     "execution_count": 49,
     "metadata": {},
     "output_type": "execute_result"
    }
   ],
   "source": [
    "# 13. Write a NumPy program to test whether each element of a 1-D array is also \n",
    "# present in a second array.\n",
    "\n",
    "ar1 = np.array([ 0, 10, 20, 40, 60])\n",
    "ar2 = np.array([0, 40])\n",
    "\n",
    "np.in1d(ar1, ar2)"
   ]
  },
  {
   "cell_type": "code",
   "execution_count": 53,
   "metadata": {},
   "outputs": [
    {
     "data": {
      "text/plain": [
       "{10, 40}"
      ]
     },
     "execution_count": 53,
     "metadata": {},
     "output_type": "execute_result"
    }
   ],
   "source": [
    "# 14. Write a NumPy program to find common values between two arrays.\n",
    "\n",
    "ar1 = np.array([ 0, 10, 20, 40, 60, 70, 80, 90, 100])\n",
    "ar2 = np.array([10, 40, 110])\n",
    "\n",
    "set(ar1) & set(ar2)"
   ]
  },
  {
   "cell_type": "code",
   "execution_count": 54,
   "metadata": {},
   "outputs": [
    {
     "data": {
      "text/plain": [
       "array([ 0, 10, 20, 30, 40, 80])"
      ]
     },
     "execution_count": 54,
     "metadata": {},
     "output_type": "execute_result"
    }
   ],
   "source": [
    "# 15. Write a NumPy program to get the unique elements of an array. \n",
    "\n",
    "ar1 = np.array([ 0, 10, 20, 40, 10, 20, 80, 30, 40])\n",
    "np.unique(ar1)"
   ]
  },
  {
   "cell_type": "code",
   "execution_count": 55,
   "metadata": {},
   "outputs": [
    {
     "data": {
      "text/plain": [
       "{0, 10, 20, 30, 40, 50, 60, 70, 80}"
      ]
     },
     "execution_count": 55,
     "metadata": {},
     "output_type": "execute_result"
    }
   ],
   "source": [
    "# 16. Write a NumPy program to find the union of two arrays. Union will return the unique, \n",
    "# sorted array of values that are in either of the two input arrays. \n",
    "\n",
    "ar1 = [ 0, 10, 20, 40, 60, 80]\n",
    "ar2 = [10, 30, 40, 50, 70]\n",
    "\n",
    "set(ar1).union(set(ar2))"
   ]
  },
  {
   "cell_type": "code",
   "execution_count": 58,
   "metadata": {},
   "outputs": [
    {
     "name": "stdout",
     "output_type": "stream",
     "text": [
      "----------All------------\n",
      "\n",
      "True\n",
      "False\n",
      "False\n",
      "False\n",
      "True\n",
      "\n",
      "----------Any------------\n",
      "\n",
      "True\n",
      "True\n",
      "True\n",
      "True\n",
      "True\n"
     ]
    }
   ],
   "source": [
    "# 17. Write a NumPy program to test whether all & any elements in an array evaluate to True.\n",
    "\n",
    "ar1 = [10, 20, 10]\n",
    "ar2 = [[True, False], [True, True]]\n",
    "ar3 = [[True, True], [False, False]]\n",
    "ar4 = [[True, True], [False, False]]\n",
    "ar5 = [[10, 20], [30, 40]]\n",
    "ar5 = [[10, 20], [20, 30]]\n",
    "\n",
    "print(\"----------All------------\\n\")\n",
    "print(np.all(np.array(ar1)))\n",
    "print(np.all(np.array(ar2)))\n",
    "print(np.all(np.array(ar3)))\n",
    "print(np.all(np.array(ar4)))\n",
    "print(np.all(np.array(ar5)))\n",
    "\n",
    "print(\"\\n----------Any------------\\n\")\n",
    "print(np.any(np.array(ar1)))\n",
    "print(np.any(np.array(ar2)))\n",
    "print(np.any(np.array(ar3)))\n",
    "print(np.any(np.array(ar4)))\n",
    "print(np.any(np.array(ar5)))"
   ]
  },
  {
   "cell_type": "code",
   "execution_count": 61,
   "metadata": {},
   "outputs": [
    {
     "name": "stdout",
     "output_type": "stream",
     "text": [
      "Repeating 2 times:---\n",
      "[1 2 3 4 1 2 3 4]\n",
      "\n",
      "Repeating 3 times:---\n",
      "[1 2 3 4 1 2 3 4 1 2 3 4]\n"
     ]
    }
   ],
   "source": [
    "# 18. Write a NumPy program to construct an array by repeating. \n",
    "\n",
    "ar = [1, 2, 3, 4]\n",
    "\n",
    "print(\"Repeating 2 times:---\")\n",
    "print(np.tile(np.array(ar), 2))\n",
    "\n",
    "print(\"\\nRepeating 3 times:---\")\n",
    "print(np.tile(np.array(ar), 3))"
   ]
  },
  {
   "cell_type": "code",
   "execution_count": 62,
   "metadata": {},
   "outputs": [
    {
     "name": "stdout",
     "output_type": "stream",
     "text": [
      "[1 1 2 2 3 3 4 4]\n"
     ]
    }
   ],
   "source": [
    "# 19. Write a NumPy program to repeat elements of an array. \n",
    "\n",
    "ar = np.array([[1, 2], [3, 4]])\n",
    "print(np.repeat(ar, 2))"
   ]
  },
  {
   "cell_type": "code",
   "execution_count": 70,
   "metadata": {},
   "outputs": [
    {
     "name": "stdout",
     "output_type": "stream",
     "text": [
      "Minimum:  2\n",
      "maximum:  4\n"
     ]
    }
   ],
   "source": [
    "# 20. Write a NumPy program to find the indices of the maximum and minimum values \n",
    "# along the given axis of an array.\n",
    "\n",
    "ar = np.array([11, 13, 1, 8, 20, 19])\n",
    "print(\"Minimum: \", np.argmin(ar))\n",
    "print(\"maximum: \", np.argmax(ar))"
   ]
  },
  {
   "cell_type": "code",
   "execution_count": null,
   "metadata": {},
   "outputs": [],
   "source": []
  }
 ],
 "metadata": {
  "kernelspec": {
   "display_name": "Python 3",
   "language": "python",
   "name": "python3"
  },
  "language_info": {
   "codemirror_mode": {
    "name": "ipython",
    "version": 3
   },
   "file_extension": ".py",
   "mimetype": "text/x-python",
   "name": "python",
   "nbconvert_exporter": "python",
   "pygments_lexer": "ipython3",
   "version": "3.7.6"
  }
 },
 "nbformat": 4,
 "nbformat_minor": 4
}
