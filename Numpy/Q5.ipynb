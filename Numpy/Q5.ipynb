{
 "cells": [
  {
   "cell_type": "markdown",
   "metadata": {},
   "source": [
    "# Numpy Statistics"
   ]
  },
  {
   "cell_type": "code",
   "execution_count": 1,
   "metadata": {},
   "outputs": [],
   "source": [
    "import numpy as np"
   ]
  },
  {
   "cell_type": "code",
   "execution_count": 2,
   "metadata": {},
   "outputs": [
    {
     "data": {
      "text/plain": [
       "20"
      ]
     },
     "execution_count": 2,
     "metadata": {},
     "output_type": "execute_result"
    }
   ],
   "source": [
    "# 1. Write a Python program to find the maximum and minimum value of a given flattened array. \n",
    "\n",
    "arr = np.array([[10, 12], [20, 19]])\n",
    "arr.max()"
   ]
  },
  {
   "cell_type": "code",
   "execution_count": 3,
   "metadata": {},
   "outputs": [
    {
     "data": {
      "text/plain": [
       "array([12, 20])"
      ]
     },
     "execution_count": 3,
     "metadata": {},
     "output_type": "execute_result"
    }
   ],
   "source": [
    "# 2. Write a NumPy program to get the minimum and maximum value of a given array \n",
    "# along the second axis. \n",
    "\n",
    "arr = np.array([[10, 12], [20, 19]])\n",
    "arr.max(axis=1)"
   ]
  },
  {
   "cell_type": "code",
   "execution_count": 9,
   "metadata": {},
   "outputs": [
    {
     "data": {
      "text/plain": [
       "array([11, 19])"
      ]
     },
     "execution_count": 9,
     "metadata": {},
     "output_type": "execute_result"
    }
   ],
   "source": [
    "# 3. Write a NumPy program to calculate the difference between the maximum and the \n",
    "# minimum values of a given array along the second axis.\n",
    "\n",
    "arr = np.array([[1, 12, 10], [20, 14, 1]])\n",
    "amax = arr.max(axis=1)\n",
    "amin = arr.min(axis=1)\n",
    "\n",
    "amax - amin"
   ]
  },
  {
   "cell_type": "code",
   "execution_count": 12,
   "metadata": {},
   "outputs": [
    {
     "data": {
      "text/plain": [
       "3.4000000000000004"
      ]
     },
     "execution_count": 12,
     "metadata": {},
     "output_type": "execute_result"
    }
   ],
   "source": [
    "# 4. Write a NumPy program to compute the 80th percentile for all elements in a given array \n",
    "# along the second axis.\n",
    "\n",
    "arr = np.array([1.0, 2.0, 3.0, 4.0])\n",
    "np.percentile(arr, 80)"
   ]
  },
  {
   "cell_type": "code",
   "execution_count": 13,
   "metadata": {},
   "outputs": [
    {
     "data": {
      "text/plain": [
       "5.5"
      ]
     },
     "execution_count": 13,
     "metadata": {},
     "output_type": "execute_result"
    }
   ],
   "source": [
    "# 5. Write a NumPy program to compute the median of flattened given array.\n",
    "\n",
    "arr = np.array(np.arange(1, 11))\n",
    "np.median(arr)"
   ]
  },
  {
   "cell_type": "code",
   "execution_count": 14,
   "metadata": {},
   "outputs": [
    {
     "name": "stdout",
     "output_type": "stream",
     "text": [
      "\n",
      "Original array:\n",
      "[0 1 2 3 4]\n",
      "\n",
      "Weighted average of the said array:\n",
      "2.6666666666666665\n"
     ]
    }
   ],
   "source": [
    "# 6. Write a NumPy program to compute the weighted of a given array.\n",
    "\n",
    "x = np.arange(5)\n",
    "print(\"\\nOriginal array:\")\n",
    "print(x)\n",
    "weights = np.arange(1, 6)\n",
    "r1 = np.average(x, weights=weights)\n",
    "r2 = (x*(weights/weights.sum())).sum()\n",
    "assert np.allclose(r1, r2)\n",
    "print(\"\\nWeighted average of the said array:\")\n",
    "print(r1)"
   ]
  },
  {
   "cell_type": "code",
   "execution_count": 20,
   "metadata": {},
   "outputs": [
    {
     "data": {
      "text/plain": [
       "(6.0, 6.0, 3.1622776601683795)"
      ]
     },
     "execution_count": 20,
     "metadata": {},
     "output_type": "execute_result"
    }
   ],
   "source": [
    "# 7. Write a NumPy program to compute the mean, standard deviation, and variance of a \n",
    "# given array along the second axis.\n",
    "\n",
    "arr = np.array(np.arange(1, 12))\n",
    "mean = np.mean(arr)\n",
    "sd = np.std(arr)\n",
    "\n",
    "\n",
    "mean, mean, sd"
   ]
  },
  {
   "cell_type": "code",
   "execution_count": 24,
   "metadata": {},
   "outputs": [
    {
     "data": {
      "text/plain": [
       "array([[ 11., -11.],\n",
       "       [-11.,  11.]])"
      ]
     },
     "execution_count": 24,
     "metadata": {},
     "output_type": "execute_result"
    }
   ],
   "source": [
    "# 8. Write a NumPy program to compute the covariance matrix of two given arrays.\n",
    "\n",
    "arr1 = np.array(np.arange(1, 12))\n",
    "arr2 = np.array(np.arange(12, 1, -1))\n",
    "cov = np.cov(arr1, arr2)\n",
    "cov"
   ]
  },
  {
   "cell_type": "code",
   "execution_count": 25,
   "metadata": {},
   "outputs": [
    {
     "data": {
      "text/plain": [
       "array([[ 1., -1.],\n",
       "       [-1.,  1.]])"
      ]
     },
     "execution_count": 25,
     "metadata": {},
     "output_type": "execute_result"
    }
   ],
   "source": [
    "# 9. Write a NumPy program to compute pearson product-moment correlation \n",
    "# coefficients of two given arrays.\n",
    "\n",
    "arr1 = np.array(np.arange(1, 12))\n",
    "arr2 = np.array(np.arange(12, 1, -1))\n",
    "\n",
    "cov = np.corrcoef(arr1, arr2)\n",
    "cov"
   ]
  },
  {
   "cell_type": "code",
   "execution_count": 26,
   "metadata": {},
   "outputs": [
    {
     "data": {
      "text/plain": [
       "array([ 3.6,  2.2, 11.2])"
      ]
     },
     "execution_count": 26,
     "metadata": {},
     "output_type": "execute_result"
    }
   ],
   "source": [
    "# 10. Write a Python NumPy program to compute the weighted average along the specified axis \n",
    "# of a given flattened array.\n",
    "\n",
    "arr = np.array([[2, 3, 5], [1, 2, 3], [10, 11, 12]])\n",
    "np.average(arr, axis=1, weights=[1./4, 2./4, 2./4])"
   ]
  },
  {
   "cell_type": "code",
   "execution_count": null,
   "metadata": {},
   "outputs": [],
   "source": []
  }
 ],
 "metadata": {
  "kernelspec": {
   "display_name": "Python 3",
   "language": "python",
   "name": "python3"
  },
  "language_info": {
   "codemirror_mode": {
    "name": "ipython",
    "version": 3
   },
   "file_extension": ".py",
   "mimetype": "text/x-python",
   "name": "python",
   "nbconvert_exporter": "python",
   "pygments_lexer": "ipython3",
   "version": "3.7.6"
  }
 },
 "nbformat": 4,
 "nbformat_minor": 4
}
