{
 "cells": [
  {
   "cell_type": "markdown",
   "metadata": {},
   "source": [
    "# Numpy Mathematics"
   ]
  },
  {
   "cell_type": "code",
   "execution_count": 1,
   "metadata": {},
   "outputs": [],
   "source": [
    "import numpy as np"
   ]
  },
  {
   "cell_type": "code",
   "execution_count": 3,
   "metadata": {},
   "outputs": [
    {
     "name": "stdout",
     "output_type": "stream",
     "text": [
      "Logarithm of the sum of exponentiations:\n",
      "-113.87649168120691\n",
      "Logarithm of the sum of exponentiations of the inputs in base-2:\n",
      "-113.59955522772194\n"
     ]
    }
   ],
   "source": [
    "# 1. Write a NumPy program to compute logarithm of the sum of exponentiations of the inputs, \n",
    "# sum of exponentiations of the inputs in base-2.\n",
    "\n",
    "l1 = np.log(1e-50)\n",
    "l2 = np.log(2.5e-50)\n",
    "print(\"Logarithm of the sum of exponentiations:\")\n",
    "print(np.logaddexp(l1, l2))\n",
    "print(\"Logarithm of the sum of exponentiations of the inputs in base-2:\")\n",
    "print(np.logaddexp2(l1, l2))"
   ]
  },
  {
   "cell_type": "code",
   "execution_count": 4,
   "metadata": {},
   "outputs": [
    {
     "data": {
      "text/plain": [
       "array([0.        , 0.33333333, 0.66666667, 1.        , 1.33333333,\n",
       "       1.66666667, 2.        ])"
      ]
     },
     "execution_count": 4,
     "metadata": {},
     "output_type": "execute_result"
    }
   ],
   "source": [
    "# 2. Write a NumPy program to get true division of the element-wise array inputs. \n",
    "\n",
    "arr = np.array([0, 1, 2, 3, 4, 5, 6])\n",
    "np.true_divide(arr, 3)"
   ]
  },
  {
   "cell_type": "code",
   "execution_count": 5,
   "metadata": {},
   "outputs": [
    {
     "data": {
      "text/plain": [
       "array([0., 1., 2., 2., 3.])"
      ]
     },
     "execution_count": 5,
     "metadata": {},
     "output_type": "execute_result"
    }
   ],
   "source": [
    "# 3. Write a NumPy program to get the largest integer smaller or equal to the division of the inputs. \n",
    "\n",
    "x = [1., 2., 3., 4., 5.]\n",
    "np.floor_divide(x, 1.5)"
   ]
  },
  {
   "cell_type": "code",
   "execution_count": 7,
   "metadata": {},
   "outputs": [
    {
     "data": {
      "text/plain": [
       "array([  0,   1,   8,  27,  64, 125], dtype=int32)"
      ]
     },
     "execution_count": 7,
     "metadata": {},
     "output_type": "execute_result"
    }
   ],
   "source": [
    "# 4.  Write a NumPy program to get the powers of an array values element-wise\n",
    "\n",
    "arr = np.array(np.arange(6))\n",
    "res = lambda x: x**3\n",
    "res(arr)"
   ]
  },
  {
   "cell_type": "code",
   "execution_count": 8,
   "metadata": {},
   "outputs": [
    {
     "data": {
      "text/plain": [
       "array([0, 1, 2, 3, 4, 0], dtype=int32)"
      ]
     },
     "execution_count": 8,
     "metadata": {},
     "output_type": "execute_result"
    }
   ],
   "source": [
    "# 5. Write a NumPy program to get the element-wise remainder of an array of division.\n",
    "\n",
    "arr = np.array(np.arange(6))\n",
    "np.remainder(arr, 5)"
   ]
  },
  {
   "cell_type": "code",
   "execution_count": 11,
   "metadata": {},
   "outputs": [
    {
     "data": {
      "text/plain": [
       "array([20.6, 10. , 12. ,  7.5, 50. ])"
      ]
     },
     "execution_count": 11,
     "metadata": {},
     "output_type": "execute_result"
    }
   ],
   "source": [
    "# 6. Write a NumPy program to calculate the absolute value element-wise.\n",
    "\n",
    "arr = np.array([-20.6, 10, 12, -7.5, 50])\n",
    "np.abs(arr)"
   ]
  },
  {
   "cell_type": "code",
   "execution_count": 14,
   "metadata": {},
   "outputs": [
    {
     "name": "stdout",
     "output_type": "stream",
     "text": [
      "[ 0.4  1.2  2.   5.1 10.  20.5] \n",
      "\n",
      "[ 0.  1.  2.  5. 10. 20.]\n"
     ]
    }
   ],
   "source": [
    "# 7. Write a NumPy program to round array elements to the given number of decimals.\n",
    "\n",
    "arr = np.array([0.45, 1.25, 2.0, 5.10, 10, 20.5])\n",
    "n1 = np.round(arr, decimals=1)\n",
    "n2 = np.round(arr)\n",
    "\n",
    "print(n1, '\\n')\n",
    "print(n2)"
   ]
  },
  {
   "cell_type": "code",
   "execution_count": 15,
   "metadata": {},
   "outputs": [
    {
     "data": {
      "text/plain": [
       "array([-1., -2., -2.,  0.,  2.,  2.,  2.])"
      ]
     },
     "execution_count": 15,
     "metadata": {},
     "output_type": "execute_result"
    }
   ],
   "source": [
    "# 8.  Write a NumPy program to round elements of the array to the nearest integer.\n",
    "\n",
    "arr = np.array([-.7, -1.5, -1.7, 0.3, 1.5, 1.8, 2.0])\n",
    "np.rint(arr)"
   ]
  },
  {
   "cell_type": "code",
   "execution_count": 18,
   "metadata": {},
   "outputs": [
    {
     "name": "stdout",
     "output_type": "stream",
     "text": [
      "[-2. -2. -1.  0.  1.  1.  2.]\n",
      "[-1. -1. -0.  1.  2.  2.  2.]\n",
      "[-1. -1. -0.  0.  1.  1.  2.]\n"
     ]
    }
   ],
   "source": [
    "# 9. Write a NumPy program to get the floor, ceiling and truncated values of the elements \n",
    "# of a numpy array. \n",
    "\n",
    "arr = np.array([-1.6, -1.5, -0.3, 0.1, 1.4, 1.8, 2.0])\n",
    "floor = np.floor(arr)\n",
    "ceil = np.ceil(arr)\n",
    "trun = np.trunc(arr)\n",
    "\n",
    "print(floor)\n",
    "print(ceil)\n",
    "print(trun)"
   ]
  },
  {
   "cell_type": "code",
   "execution_count": 19,
   "metadata": {},
   "outputs": [
    {
     "data": {
      "text/plain": [
       "array([[803, 624],\n",
       "       [903, 684],\n",
       "       [641, 404],\n",
       "       [941, 688],\n",
       "       [523, 392]])"
      ]
     },
     "execution_count": 19,
     "metadata": {},
     "output_type": "execute_result"
    }
   ],
   "source": [
    "# 10. Write a NumPy program to multiply a 5x3 matrix by a 3x2 matrix and create a real matrix product.\n",
    "\n",
    "ar1 = np.random.randint(low=10, high=50, size=15).reshape(5, 3)\n",
    "ar2 = np.random.randint(low=1, high=10, size=6).reshape(3, 2)\n",
    "\n",
    "dot = np.dot(ar1, ar2)\n",
    "dot"
   ]
  },
  {
   "cell_type": "code",
   "execution_count": 24,
   "metadata": {},
   "outputs": [
    {
     "name": "stdout",
     "output_type": "stream",
     "text": [
      "[[ 14  38  62]\n",
      " [ 86 110 134]] \n",
      "\n"
     ]
    }
   ],
   "source": [
    "# 11. Write a NumPy program to create an inne product of two arrays.\n",
    "\n",
    "arr = np.arange(24).reshape((2,3,4))\n",
    "y = np.arange(4)\n",
    "\n",
    "inner = np.inner(arr, y)\n",
    "print(inner, '\\n')"
   ]
  },
  {
   "cell_type": "code",
   "execution_count": 25,
   "metadata": {},
   "outputs": [
    {
     "data": {
      "text/plain": [
       "array([[17,  9],\n",
       "       [ 7,  4]])"
      ]
     },
     "execution_count": 25,
     "metadata": {},
     "output_type": "execute_result"
    }
   ],
   "source": [
    "# 12. Write a NumPy program to generate a matrix product of two arrays. \n",
    "\n",
    "ar1 = np.array([[2, 5], [1, 2]])\n",
    "ar2 = np.array([[1, 2,], [3, 1]])\n",
    "\n",
    "ar1@ar2"
   ]
  },
  {
   "cell_type": "code",
   "execution_count": null,
   "metadata": {},
   "outputs": [],
   "source": []
  }
 ],
 "metadata": {
  "kernelspec": {
   "display_name": "Python 3",
   "language": "python",
   "name": "python3"
  },
  "language_info": {
   "codemirror_mode": {
    "name": "ipython",
    "version": 3
   },
   "file_extension": ".py",
   "mimetype": "text/x-python",
   "name": "python",
   "nbconvert_exporter": "python",
   "pygments_lexer": "ipython3",
   "version": "3.7.6"
  }
 },
 "nbformat": 4,
 "nbformat_minor": 4
}
