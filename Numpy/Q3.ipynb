{
 "cells": [
  {
   "cell_type": "markdown",
   "metadata": {},
   "source": [
    "# Numpy Random"
   ]
  },
  {
   "cell_type": "code",
   "execution_count": 1,
   "metadata": {},
   "outputs": [],
   "source": [
    "import numpy as np"
   ]
  },
  {
   "cell_type": "code",
   "execution_count": 3,
   "metadata": {},
   "outputs": [
    {
     "data": {
      "text/plain": [
       "array([-0.7481142 , -0.59919543, -0.34878222, -0.34507686,  0.11784219])"
      ]
     },
     "execution_count": 3,
     "metadata": {},
     "output_type": "execute_result"
    }
   ],
   "source": [
    "# 1. Write a NumPy program to generate five random numbers from the normal distribution. \n",
    "\n",
    "np.random.normal(size=5)"
   ]
  },
  {
   "cell_type": "code",
   "execution_count": 5,
   "metadata": {},
   "outputs": [
    {
     "data": {
      "text/plain": [
       "array([24, 21, 15, 17, 14, 20])"
      ]
     },
     "execution_count": 5,
     "metadata": {},
     "output_type": "execute_result"
    }
   ],
   "source": [
    "# 2. Write a NumPy program to generate six random integers between 10 and 30.\n",
    "\n",
    "np.random.randint(low=10, high=30, size=6)"
   ]
  },
  {
   "cell_type": "code",
   "execution_count": 6,
   "metadata": {},
   "outputs": [
    {
     "data": {
      "text/plain": [
       "array([[[-1.53951616,  0.03770242,  1.0197106 ],\n",
       "        [-1.29295768, -0.04865024,  0.69272347],\n",
       "        [ 0.78961382, -0.44512588,  0.97007635]],\n",
       "\n",
       "       [[ 2.11851451,  0.31875981, -0.38404464],\n",
       "        [ 0.0577378 ,  1.87360775, -1.59751651],\n",
       "        [-0.92625973,  0.42516489, -0.25394581]],\n",
       "\n",
       "       [[-0.23398064,  0.26736323,  0.95277582],\n",
       "        [-0.42118052,  1.00437689, -0.65456435],\n",
       "        [-2.51791884,  0.25616415, -1.92543133]]])"
      ]
     },
     "execution_count": 6,
     "metadata": {},
     "output_type": "execute_result"
    }
   ],
   "source": [
    "# 3. Write a NumPy program to create a 3x3x3 array with random values.\n",
    "\n",
    "np.random.normal(size=27).reshape(3,3,3)"
   ]
  },
  {
   "cell_type": "code",
   "execution_count": 11,
   "metadata": {},
   "outputs": [
    {
     "data": {
      "text/plain": [
       "(38, 10)"
      ]
     },
     "execution_count": 11,
     "metadata": {},
     "output_type": "execute_result"
    }
   ],
   "source": [
    "# 4. Write a NumPy program to create a 5x5 array with random values and find the minimum \n",
    "# and maximum values.\n",
    "\n",
    "mat = np.random.randint(low=10, high=40, size=25).reshape(5,5)\n",
    "max, min = mat.max(), mat.min()\n",
    "max, min"
   ]
  },
  {
   "cell_type": "code",
   "execution_count": 16,
   "metadata": {},
   "outputs": [
    {
     "data": {
      "text/plain": [
       "array([[ 28, 136, 115,  19],\n",
       "       [ 42,  58,  40, 131],\n",
       "       [ 83,  33, 114,  21],\n",
       "       [ 49,  93, 102,  48],\n",
       "       [ 52,  24,  32,  79]])"
      ]
     },
     "execution_count": 16,
     "metadata": {},
     "output_type": "execute_result"
    }
   ],
   "source": [
    "# 5. Write a NumPy program to create a random 10x4 array and extract the first five rows of \n",
    "# the array and store them into a variable. \n",
    "\n",
    "mat = np.random.randint(low=10, high=140, size=40).reshape(10,4)\n",
    "mat[0:5]"
   ]
  },
  {
   "cell_type": "code",
   "execution_count": 21,
   "metadata": {},
   "outputs": [
    {
     "name": "stdout",
     "output_type": "stream",
     "text": [
      "[10 20 30 40 50]\n",
      "[40 30 10 50 20]\n"
     ]
    }
   ],
   "source": [
    "# 6. Write a NumPy program to shuffle numbers between 0 and 10 (inclusive).\n",
    "\n",
    "arr = np.array([10, 20, 30, 40, 50])\n",
    "print(arr)\n",
    "np.random.shuffle(arr)\n",
    "print(arr)"
   ]
  },
  {
   "cell_type": "code",
   "execution_count": 25,
   "metadata": {},
   "outputs": [
    {
     "name": "stdout",
     "output_type": "stream",
     "text": [
      "[[41 42 48]\n",
      " [26 30 32]\n",
      " [10 21 30]] \n",
      "\n",
      "After Normalization: \n",
      " [[0.81578947 0.84210526 1.        ]\n",
      " [0.42105263 0.52631579 0.57894737]\n",
      " [0.         0.28947368 0.52631579]]\n"
     ]
    }
   ],
   "source": [
    "# 7. Write a NumPy program to normalize a 3x3 random matrix.\n",
    "\n",
    "arr = np.random.randint(low=10, high=50, size=9).reshape(3,3)\n",
    "print(arr, '\\n')\n",
    "\n",
    "max, min = arr.max(), arr.min()\n",
    "arr = (arr - min)/(max-min)\n",
    "\n",
    "print(\"After Normalization: \\n\", arr)"
   ]
  },
  {
   "cell_type": "code",
   "execution_count": 28,
   "metadata": {},
   "outputs": [
    {
     "name": "stdout",
     "output_type": "stream",
     "text": [
      "[ 1.34827022 -0.27224281  0.43981299  1.20307761  1.19807365 -0.43967687\n",
      " -0.47299679  1.51708936  0.47036873 -0.49883227] \n",
      "\n",
      "[-0.49883226822508453, -0.4729967926516914, -0.4396768706070091, -0.27224280963266334, 0.43981298843739736, 0.47036873251955647, 1.1980736490029178, 1.2030776057182655, 1.3482702203217753, 1.5170893645536032]\n"
     ]
    }
   ],
   "source": [
    "# 8. Write a NumPy program to create a random vector of size 10 and sort it.\n",
    "\n",
    "arr = np.random.normal(size=10)\n",
    "print(arr, '\\n')\n",
    "print(sorted(arr))"
   ]
  },
  {
   "cell_type": "code",
   "execution_count": 29,
   "metadata": {},
   "outputs": [
    {
     "name": "stdout",
     "output_type": "stream",
     "text": [
      "2.366763802512443\n"
     ]
    }
   ],
   "source": [
    "# 9. Write a NumPy program to find the nearest value from a given value in an array.\n",
    "\n",
    "x = np.random.uniform(1, 12, 5)\n",
    "v = 4\n",
    "n = x.flat[np.abs(x - v).argmin()]\n",
    "print(n)"
   ]
  },
  {
   "cell_type": "code",
   "execution_count": 35,
   "metadata": {},
   "outputs": [
    {
     "name": "stdout",
     "output_type": "stream",
     "text": [
      "[ 0.32950664  1.75205998  0.56229311  0.26812787 -0.78194563 -0.93644962\n",
      " -2.19863998  0.58198899 -0.37223706  0.9101946  -0.13161939 -1.40421355\n",
      "  2.43391295 -0.79487558 -0.1270542 ] \n",
      "\n"
     ]
    },
    {
     "data": {
      "text/plain": [
       "array([2.43391295])"
      ]
     },
     "execution_count": 35,
     "metadata": {},
     "output_type": "execute_result"
    }
   ],
   "source": [
    "# 10. Write a NumPy program to create random vector of size 15 and replace the maximum value by -1\n",
    "\n",
    "arr = np.random.normal(size=15)\n",
    "print(arr, '\\n')\n",
    "\n",
    "max = arr.max()\n",
    "ind = np.where(arr == max)\n",
    "arr[ind]"
   ]
  },
  {
   "cell_type": "code",
   "execution_count": 36,
   "metadata": {},
   "outputs": [
    {
     "name": "stdout",
     "output_type": "stream",
     "text": [
      "[[0.         0.88935391 0.8450646  0.62954132 0.48007817 0.51952421\n",
      "  0.21664133 1.02148206 0.54209848 0.92708626]\n",
      " [0.88935391 0.         0.28874822 0.50699461 0.47063715 0.63946773\n",
      "  0.69781834 0.15407688 0.51240312 0.5938791 ]\n",
      " [0.8450646  0.28874822 0.         0.28660193 0.56379757 0.77469009\n",
      "  0.70339927 0.42052875 0.65143015 0.30569522]\n",
      " [0.62954132 0.50699461 0.28660193 0.         0.52359859 0.73547596\n",
      "  0.5473666  0.65916297 0.63648561 0.30293967]\n",
      " [0.48007817 0.47063715 0.56379757 0.52359859 0.         0.21679398\n",
      "  0.26435552 0.57427616 0.1158191  0.79114843]\n",
      " [0.51952421 0.63946773 0.77469009 0.73547596 0.21679398 0.\n",
      "  0.3260618  0.71037399 0.12808    1.00785368]\n",
      " [0.21664133 0.69781834 0.70339927 0.5473666  0.26435552 0.3260618\n",
      "  0.         0.82066653 0.3282046  0.84905505]\n",
      " [1.02148206 0.15407688 0.42052875 0.65916297 0.57427616 0.71037399\n",
      "  0.82066653 0.         0.58998128 0.71736107]\n",
      " [0.54209848 0.51240312 0.65143015 0.63648561 0.1158191  0.12808\n",
      "  0.3282046  0.58998128 0.         0.89593487]\n",
      " [0.92708626 0.5938791  0.30569522 0.30293967 0.79114843 1.00785368\n",
      "  0.84905505 0.71736107 0.89593487 0.        ]]\n"
     ]
    }
   ],
   "source": [
    "# 11. Write a NumPy program to find point by point distances of a random vector with \n",
    "# shape (10,2) representing coordinates.\n",
    "\n",
    "a = np.random.random((10,2))\n",
    "x, y = np.atleast_2d(a[:,0], a[:,1])\n",
    "d = np.sqrt( (x-x.T)**2 + (y-y.T)**2)\n",
    "print(d)"
   ]
  },
  {
   "cell_type": "code",
   "execution_count": 40,
   "metadata": {},
   "outputs": [
    {
     "name": "stdout",
     "output_type": "stream",
     "text": [
      "[21 39 47 40 10 46 21 36 32 37 43 28 24 34 37 27 45 42 26 14] \n",
      "\n",
      "21\n"
     ]
    }
   ],
   "source": [
    "# 12. Write a NumPy program to find the most frequent value in an array. \n",
    "\n",
    "arr = np.random.randint(low=10, high=50, size=20)\n",
    "print(arr, '\\n')\n",
    "print(np.bincount(arr).argmax())"
   ]
  },
  {
   "cell_type": "code",
   "execution_count": 41,
   "metadata": {},
   "outputs": [
    {
     "name": "stdout",
     "output_type": "stream",
     "text": [
      "[ 0  1  2  3  4  5  6  7  8  9 10 11 12 13 14 15 16 17 18 19 20 21 22 23\n",
      " 24 25 26 27 28 29 30 31 32 33 34 35 36 37 38 39 40 41 42 43 44 45 46 47\n",
      " 48 49 50 51 52 53 54 55 56 57 58 59 60 61 62 63 64 65 66 67 68 69 70 71\n",
      " 72 73 74 75 76 77 78 79 80 81 82 83 84 85 86 87 88 89 90 91 92 93 94 95\n",
      " 96 97 98 99] \n",
      "\n",
      "4.571557419140038 \n",
      "\n"
     ]
    },
    {
     "data": {
      "text/plain": [
       "5"
      ]
     },
     "execution_count": 41,
     "metadata": {},
     "output_type": "execute_result"
    }
   ],
   "source": [
    "# 13. Write a NumPy program to find the closest value (to a given scalar) in an array.\n",
    "\n",
    "x = np.arange(100)\n",
    "print(x, '\\n')\n",
    "\n",
    "a = np.random.uniform(0, 100)\n",
    "print(a, '\\n')\n",
    "\n",
    "ind = (np.abs(x-a)).argmin()\n",
    "x[ind]"
   ]
  },
  {
   "cell_type": "code",
   "execution_count": 43,
   "metadata": {},
   "outputs": [
    {
     "data": {
      "text/plain": [
       "90"
      ]
     },
     "execution_count": 43,
     "metadata": {},
     "output_type": "execute_result"
    }
   ],
   "source": [
    "# 14. Write a NumPy program to get the n largest values of an array.\n",
    "\n",
    "arr = np.array([10, 2, 7, 90, 11, 21, 27])\n",
    "arr.max()"
   ]
  },
  {
   "cell_type": "code",
   "execution_count": null,
   "metadata": {},
   "outputs": [],
   "source": []
  }
 ],
 "metadata": {
  "kernelspec": {
   "display_name": "Python 3",
   "language": "python",
   "name": "python3"
  },
  "language_info": {
   "codemirror_mode": {
    "name": "ipython",
    "version": 3
   },
   "file_extension": ".py",
   "mimetype": "text/x-python",
   "name": "python",
   "nbconvert_exporter": "python",
   "pygments_lexer": "ipython3",
   "version": "3.7.6"
  }
 },
 "nbformat": 4,
 "nbformat_minor": 4
}
