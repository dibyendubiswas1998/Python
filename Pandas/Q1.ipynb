{
 "cells": [
  {
   "cell_type": "markdown",
   "metadata": {},
   "source": [
    "# Pandas Data Series"
   ]
  },
  {
   "cell_type": "code",
   "execution_count": 1,
   "metadata": {},
   "outputs": [],
   "source": [
    "import numpy as np\n",
    "import pandas as pd"
   ]
  },
  {
   "cell_type": "code",
   "execution_count": 2,
   "metadata": {},
   "outputs": [
    {
     "data": {
      "text/plain": [
       "0    10\n",
       "1    20\n",
       "2    30\n",
       "3    40\n",
       "dtype: int64"
      ]
     },
     "execution_count": 2,
     "metadata": {},
     "output_type": "execute_result"
    }
   ],
   "source": [
    "# 1. Write a Pandas program to create and display a one-dimensional array-like object \n",
    "# containing an array of data using Pandas module.\n",
    "\n",
    "pd.Series([10, 20, 30, 40])"
   ]
  },
  {
   "cell_type": "code",
   "execution_count": 5,
   "metadata": {},
   "outputs": [
    {
     "name": "stdout",
     "output_type": "stream",
     "text": [
      "<class 'pandas.core.series.Series'>\n",
      "list:  [10, 20, 30, 40]\n",
      "<class 'list'>\n"
     ]
    }
   ],
   "source": [
    "# 2. Write a Pandas program to convert a Panda module Series to Python list and it's type\n",
    "\n",
    "s = pd.Series([10, 20, 30, 40])\n",
    "print(type(s))\n",
    "\n",
    "ls = list(s)\n",
    "print(\"list: \", ls)\n",
    "print(type(ls))"
   ]
  },
  {
   "cell_type": "code",
   "execution_count": 7,
   "metadata": {},
   "outputs": [
    {
     "name": "stdout",
     "output_type": "stream",
     "text": [
      "0     3\n",
      "1     7\n",
      "2    11\n",
      "3    15\n",
      "4    19\n",
      "dtype: int64\n"
     ]
    }
   ],
   "source": [
    "# 3. Write a Pandas program to add, subtract, multiple and divide two Pandas Series.\n",
    "\n",
    "ls1 = [2, 4, 6, 8, 10]\n",
    "ls2 = [1, 3, 5, 7, 9]\n",
    "\n",
    "s1 = pd.Series(ls1)\n",
    "s2 = pd.Series(ls2)\n",
    "\n",
    "s3 = s1 + s2\n",
    "print(s3)"
   ]
  },
  {
   "cell_type": "code",
   "execution_count": 9,
   "metadata": {},
   "outputs": [
    {
     "name": "stdout",
     "output_type": "stream",
     "text": [
      "0    False\n",
      "1    False\n",
      "2    False\n",
      "3    False\n",
      "4    False\n",
      "dtype: bool\n",
      "0    True\n",
      "1    True\n",
      "2    True\n",
      "3    True\n",
      "4    True\n",
      "dtype: bool\n",
      "0    False\n",
      "1    False\n",
      "2    False\n",
      "3    False\n",
      "4    False\n",
      "dtype: bool\n"
     ]
    }
   ],
   "source": [
    "# 4. Write a Pandas program to compare the elements of the two Pandas Series.\n",
    "\n",
    "ls1 = [2, 4, 6, 8, 10]\n",
    "ls2 = [1, 3, 5, 7, 9]\n",
    "\n",
    "s1 = pd.Series(ls1)\n",
    "s2 = pd.Series(ls2)\n",
    "\n",
    "print(s1 == s2)\n",
    "print(s1 > s2)\n",
    "print(s1 < s2)"
   ]
  },
  {
   "cell_type": "code",
   "execution_count": 11,
   "metadata": {},
   "outputs": [
    {
     "data": {
      "text/plain": [
       "a    100\n",
       "b    200\n",
       "c    300\n",
       "d    400\n",
       "e    800\n",
       "dtype: int64"
      ]
     },
     "execution_count": 11,
     "metadata": {},
     "output_type": "execute_result"
    }
   ],
   "source": [
    "# 5. Write a Pandas program to convert a dictionary to a Pandas series.\n",
    "\n",
    "d = {'a': 100, 'b': 200, 'c': 300, 'd': 400, 'e': 800}\n",
    "pd.Series(d)"
   ]
  },
  {
   "cell_type": "code",
   "execution_count": 14,
   "metadata": {},
   "outputs": [
    {
     "name": "stdout",
     "output_type": "stream",
     "text": [
      "<class 'numpy.ndarray'>\n",
      "<class 'pandas.core.series.Series'>\n",
      "0    10\n",
      "1    20\n",
      "2    30\n",
      "dtype: int32\n"
     ]
    }
   ],
   "source": [
    "# 6. Write a Pandas program to convert a NumPy array to a Pandas series.\n",
    "\n",
    "arr = np.array([10, 20, 30])\n",
    "\n",
    "ss = pd.Series(arr)\n",
    "print(type(arr))\n",
    "print(type(ss))\n",
    "print(ss)"
   ]
  },
  {
   "cell_type": "code",
   "execution_count": 16,
   "metadata": {},
   "outputs": [
    {
     "data": {
      "text/plain": [
       "0    100.00\n",
       "1    200.00\n",
       "2       NaN\n",
       "3    300.12\n",
       "4    400.00\n",
       "dtype: float64"
      ]
     },
     "execution_count": 16,
     "metadata": {},
     "output_type": "execute_result"
    }
   ],
   "source": [
    "# 7. Write a Pandas program to change the data type of given a column or a Series.\n",
    "\n",
    "lst = [100, 200, 'Python', 300.12, 400]\n",
    "\n",
    "pd.to_numeric(pd.Series(lst), errors='coerce')"
   ]
  },
  {
   "cell_type": "code",
   "execution_count": 30,
   "metadata": {},
   "outputs": [
    {
     "data": {
      "text/plain": [
       "0    a\n",
       "1    1\n",
       "2    5\n",
       "3    9\n",
       "Name: a, dtype: object"
      ]
     },
     "execution_count": 30,
     "metadata": {},
     "output_type": "execute_result"
    }
   ],
   "source": [
    "# 8. Write a Pandas program to convert the first column of a DataFrame as a Series.\n",
    "\n",
    "df = pd.read_csv('ex1.csv', header=None, names=list('abcde'))\n",
    "s = df['a']\n",
    "s"
   ]
  },
  {
   "cell_type": "code",
   "execution_count": 31,
   "metadata": {},
   "outputs": [
    {
     "data": {
      "text/plain": [
       "array(['a', '1', '5', '9'], dtype=object)"
      ]
     },
     "execution_count": 31,
     "metadata": {},
     "output_type": "execute_result"
    }
   ],
   "source": [
    "# 9. Write a Pandas program to convert a given Series to an array.\n",
    "\n",
    "np.array(s)"
   ]
  },
  {
   "cell_type": "code",
   "execution_count": 38,
   "metadata": {},
   "outputs": [
    {
     "data": {
      "text/plain": [
       "0    100\n",
       "1    110\n",
       "2    200\n",
       "3    210\n",
       "4    220\n",
       "5    300\n",
       "6    310\n",
       "7    320\n",
       "dtype: int64"
      ]
     },
     "execution_count": 38,
     "metadata": {},
     "output_type": "execute_result"
    }
   ],
   "source": [
    "# 10. Write a Pandas program to convert Series of lists to one Series\n",
    "\n",
    "\n",
    "d = {'a': [100, 110], 'b': [200, 210, 220], 'c': [300, 310, 320]}\n",
    "pd.Series(i for key, val in d.items() for i in val)"
   ]
  },
  {
   "cell_type": "code",
   "execution_count": 46,
   "metadata": {},
   "outputs": [
    {
     "data": {
      "text/plain": [
       "0       100\n",
       "1       200\n",
       "3    300.12\n",
       "4       400\n",
       "2    python\n",
       "dtype: object"
      ]
     },
     "execution_count": 46,
     "metadata": {},
     "output_type": "execute_result"
    }
   ],
   "source": [
    "# 11. Write a Pandas program to sort a given Series.\n",
    "\n",
    "s = pd.Series(['100', '200', 'python', '300.12', '400'])\n",
    "pd.Series(s).sort_values()"
   ]
  },
  {
   "cell_type": "code",
   "execution_count": 49,
   "metadata": {},
   "outputs": [
    {
     "data": {
      "text/plain": [
       "0           100\n",
       "1           200\n",
       "2        python\n",
       "3        300.12\n",
       "4           400\n",
       "0          java\n",
       "1    javascript\n",
       "dtype: object"
      ]
     },
     "execution_count": 49,
     "metadata": {},
     "output_type": "execute_result"
    }
   ],
   "source": [
    "# 12. Write a Pandas program to add some data to an existing Series\n",
    "\n",
    "s = pd.Series(['100', '200', 'python', '300.12', '400'])\n",
    "new = s.append(pd.Series(['java', 'javascript']))\n",
    "new"
   ]
  },
  {
   "cell_type": "code",
   "execution_count": 51,
   "metadata": {},
   "outputs": [
    {
     "data": {
      "text/plain": [
       "B    2\n",
       "A    1\n",
       "C    3\n",
       "D    4\n",
       "E    5\n",
       "dtype: int64"
      ]
     },
     "execution_count": 51,
     "metadata": {},
     "output_type": "execute_result"
    }
   ],
   "source": [
    "# 13. Write a Pandas program to change the order of index of a given series.\n",
    "\n",
    "ss = pd.Series([1, 2, 3, 4, 5], index=list('ABCDE'))\n",
    "s = ss.reindex(index = ['B','A','C','D','E'])\n",
    "s"
   ]
  },
  {
   "cell_type": "code",
   "execution_count": 53,
   "metadata": {},
   "outputs": [
    {
     "data": {
      "text/plain": [
       "count    5.000000\n",
       "mean     3.000000\n",
       "std      1.581139\n",
       "min      1.000000\n",
       "25%      2.000000\n",
       "50%      3.000000\n",
       "75%      4.000000\n",
       "max      5.000000\n",
       "dtype: float64"
      ]
     },
     "execution_count": 53,
     "metadata": {},
     "output_type": "execute_result"
    }
   ],
   "source": [
    "# 14. Write a Pandas program to create the mean and standard deviation of the data of a given Series.\n",
    "\n",
    "ss = pd.Series([1, 2, 3, 4, 5], index=list('ABCDE'))\n",
    "ss.describe()"
   ]
  },
  {
   "cell_type": "code",
   "execution_count": 56,
   "metadata": {},
   "outputs": [
    {
     "name": "stdout",
     "output_type": "stream",
     "text": [
      "{1, 3, 5}\n",
      "{8, 10, 6}\n"
     ]
    }
   ],
   "source": [
    "# 16. Write a Pandas program to get the items of a given series not present in another given series. \n",
    "\n",
    "ser1 = pd.Series([1, 2, 3, 4, 5])\n",
    "ser2 = pd.Series([2, 4, 6, 8, 10])\n",
    "\n",
    "print(set(ser1)-set(ser2))\n",
    "print(set(ser2)-set(ser1))"
   ]
  },
  {
   "cell_type": "code",
   "execution_count": 75,
   "metadata": {},
   "outputs": [
    {
     "name": "stdout",
     "output_type": "stream",
     "text": [
      "0     Other\n",
      "1     Other\n",
      "2         3\n",
      "3     Other\n",
      "4     Other\n",
      "5     Other\n",
      "6     Other\n",
      "7     Other\n",
      "8     Other\n",
      "9         3\n",
      "10    Other\n",
      "11        3\n",
      "12        3\n",
      "13        3\n",
      "14    Other\n",
      "dtype: object\n"
     ]
    }
   ],
   "source": [
    "# 17. Write a Pandas program to display most frequent value in a given series and replace \n",
    "# everything else as 'Other' in the series.\n",
    "\n",
    "ser = pd.Series(np.random.randint(1, 5, [15]))\n",
    "result = ser[~ser.isin(ser.value_counts().index[:1])] = 'Other'\n",
    "print(ser)"
   ]
  },
  {
   "cell_type": "code",
   "execution_count": 77,
   "metadata": {
    "scrolled": true
   },
   "outputs": [
    {
     "name": "stdout",
     "output_type": "stream",
     "text": [
      "(array([2, 3], dtype=int64),)\n"
     ]
    }
   ],
   "source": [
    "# 18. Write a Pandas program to find the positions of numbers that are multiples \n",
    "# of 5 of a given series.\n",
    "\n",
    "ser = pd.Series([11, 12, 30, 25, 17])\n",
    "result = np.where(ser % 5 == 0)\n",
    "print(result)"
   ]
  },
  {
   "cell_type": "code",
   "execution_count": 81,
   "metadata": {},
   "outputs": [
    {
     "data": {
      "text/plain": [
       "0    11\n",
       "4    17\n",
       "dtype: int64"
      ]
     },
     "execution_count": 81,
     "metadata": {},
     "output_type": "execute_result"
    }
   ],
   "source": [
    "# 19. Write a Pandas program to extract items at given positions of a given series.\n",
    "\n",
    "ser = pd.Series([11, 12, 30, 25, 17])\n",
    "ser[[0, 4]]"
   ]
  },
  {
   "cell_type": "code",
   "execution_count": 94,
   "metadata": {},
   "outputs": [
    {
     "data": {
      "text/plain": [
       "0           PhP\n",
       "1        PythoN\n",
       "2          JavA\n",
       "3    JavascripT\n",
       "dtype: object"
      ]
     },
     "execution_count": 94,
     "metadata": {},
     "output_type": "execute_result"
    }
   ],
   "source": [
    "# 20. Write a Pandas program convert the first and last character of each word to upper case \n",
    "# in each word of a given series.\n",
    "\n",
    "lst = ['php', 'python', 'java', 'javascript']\n",
    "pd.Series(i[0].upper() + i[1:-1] + i[-1].upper() for i in lst)"
   ]
  },
  {
   "cell_type": "code",
   "execution_count": null,
   "metadata": {},
   "outputs": [],
   "source": []
  }
 ],
 "metadata": {
  "kernelspec": {
   "display_name": "Python 3",
   "language": "python",
   "name": "python3"
  },
  "language_info": {
   "codemirror_mode": {
    "name": "ipython",
    "version": 3
   },
   "file_extension": ".py",
   "mimetype": "text/x-python",
   "name": "python",
   "nbconvert_exporter": "python",
   "pygments_lexer": "ipython3",
   "version": "3.7.6"
  }
 },
 "nbformat": 4,
 "nbformat_minor": 4
}
